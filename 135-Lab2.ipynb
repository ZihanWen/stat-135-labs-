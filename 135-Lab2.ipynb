{
 "cells": [
  {
   "cell_type": "markdown",
   "metadata": {},
   "source": [
    "# Stat 135 -- Lab02"
   ]
  },
  {
   "cell_type": "markdown",
   "metadata": {},
   "source": [
    "Author: Zihan Wen"
   ]
  },
  {
   "cell_type": "code",
   "execution_count": 1,
   "metadata": {},
   "outputs": [],
   "source": [
    "#first import all the libraries needed \n",
    "import numpy as np \n",
    "import random\n",
    "import plotly.figure_factory as ff\n",
    "import pandas as pd \n",
    "import seaborn as sns \n",
    "import matplotlib.pyplot as plt\n",
    "import scipy.stats as stats\n",
    "from scipy.special import factorial\n",
    "%matplotlib inline"
   ]
  },
  {
   "cell_type": "markdown",
   "metadata": {},
   "source": [
    "**Load the data**"
   ]
  },
  {
   "cell_type": "code",
   "execution_count": 2,
   "metadata": {},
   "outputs": [
    {
     "data": {
      "text/html": [
       "<div>\n",
       "<style scoped>\n",
       "    .dataframe tbody tr th:only-of-type {\n",
       "        vertical-align: middle;\n",
       "    }\n",
       "\n",
       "    .dataframe tbody tr th {\n",
       "        vertical-align: top;\n",
       "    }\n",
       "\n",
       "    .dataframe thead th {\n",
       "        text-align: right;\n",
       "    }\n",
       "</style>\n",
       "<table border=\"1\" class=\"dataframe\">\n",
       "  <thead>\n",
       "    <tr style=\"text-align: right;\">\n",
       "      <th></th>\n",
       "      <th>location</th>\n",
       "    </tr>\n",
       "  </thead>\n",
       "  <tbody>\n",
       "    <tr>\n",
       "      <th>0</th>\n",
       "      <td>177</td>\n",
       "    </tr>\n",
       "    <tr>\n",
       "      <th>1</th>\n",
       "      <td>1321</td>\n",
       "    </tr>\n",
       "    <tr>\n",
       "      <th>2</th>\n",
       "      <td>1433</td>\n",
       "    </tr>\n",
       "    <tr>\n",
       "      <th>3</th>\n",
       "      <td>1477</td>\n",
       "    </tr>\n",
       "    <tr>\n",
       "      <th>4</th>\n",
       "      <td>3248</td>\n",
       "    </tr>\n",
       "  </tbody>\n",
       "</table>\n",
       "</div>"
      ],
      "text/plain": [
       "   location\n",
       "0       177\n",
       "1      1321\n",
       "2      1433\n",
       "3      1477\n",
       "4      3248"
      ]
     },
     "execution_count": 2,
     "metadata": {},
     "output_type": "execute_result"
    }
   ],
   "source": [
    "data = pd.read_csv('hcmv.csv')\n",
    "data = data.drop(['Unnamed: 0'], axis = 1)\n",
    "data.head()"
   ]
  },
  {
   "cell_type": "code",
   "execution_count": 3,
   "metadata": {},
   "outputs": [
    {
     "data": {
      "text/plain": [
       "(296, 1)"
      ]
     },
     "execution_count": 3,
     "metadata": {},
     "output_type": "execute_result"
    }
   ],
   "source": [
    "data.shape"
   ]
  },
  {
   "cell_type": "markdown",
   "metadata": {},
   "source": [
    "# 1.1"
   ]
  },
  {
   "cell_type": "code",
   "execution_count": 4,
   "metadata": {},
   "outputs": [
    {
     "data": {
      "text/plain": [
       "228953"
      ]
     },
     "execution_count": 4,
     "metadata": {},
     "output_type": "execute_result"
    }
   ],
   "source": [
    "#find the location of the last row\n",
    "data.iloc[295].values[0]"
   ]
  },
  {
   "cell_type": "code",
   "execution_count": 5,
   "metadata": {},
   "outputs": [
    {
     "data": {
      "text/plain": [
       "76.31766666666667"
      ]
     },
     "execution_count": 5,
     "metadata": {},
     "output_type": "execute_result"
    }
   ],
   "source": [
    "#caculate the number of bins with size 3000 we need for the histogram\n",
    "num_bins = data.iloc[295].values[0] / 3000\n",
    "num_bins"
   ]
  },
  {
   "cell_type": "code",
   "execution_count": 6,
   "metadata": {
    "scrolled": false
   },
   "outputs": [
    {
     "data": {
      "image/png": "[encoded data removed]",
      "text/plain": [
       "<Figure size 432x288 with 1 Axes>"
      ]
     },
     "metadata": {
      "needs_background": "light"
     },
     "output_type": "display_data"
    }
   ],
   "source": [
    "bins = np.arange(0, (int(num_bins) + 1)*3000 + 1, 3000)\n",
    "sns.distplot(data['location'], hist = True, kde = False, bins = bins);"
   ]
  },
  {
   "cell_type": "code",
   "execution_count": 7,
   "metadata": {
    "scrolled": true
   },
   "outputs": [
    {
     "data": {
      "text/plain": [
       "array([ 4,  3,  1,  5,  3,  4,  6,  4,  1,  1,  4,  4,  3,  3,  3,  2,  3,\n",
       "        6,  5,  1,  5,  8,  3,  3,  5,  7,  1,  1,  6,  3, 13,  6,  3,  2,\n",
       "        5,  2,  3,  1,  4,  5,  3,  2,  5,  4,  2,  8,  3,  8,  1,  5,  6,\n",
       "        3,  1,  2,  6,  5,  6,  2,  4,  3,  4,  0,  6,  6,  4, 10,  2,  3,\n",
       "        3,  5,  1,  1,  4,  3,  6,  5,  2])"
      ]
     },
     "execution_count": 7,
     "metadata": {},
     "output_type": "execute_result"
    }
   ],
   "source": [
    "#counts\n",
    "counts_and_bins = np.histogram(data['location'], bins = bins)\n",
    "counts_and_bins[0]"
   ]
  },
  {
   "cell_type": "code",
   "execution_count": 8,
   "metadata": {},
   "outputs": [
    {
     "data": {
      "image/png": "[encoded data removed]",
      "text/plain": [
       "<Figure size 432x288 with 1 Axes>"
      ]
     },
     "metadata": {
      "needs_background": "light"
     },
     "output_type": "display_data"
    }
   ],
   "source": [
    "#use seaborn to plot the empirical probability mass function \n",
    "sns.distplot(counts_and_bins[0], hist = True);"
   ]
  },
  {
   "cell_type": "markdown",
   "metadata": {},
   "source": [
    "# 1.2"
   ]
  },
  {
   "cell_type": "code",
   "execution_count": 9,
   "metadata": {},
   "outputs": [
    {
     "data": {
      "text/plain": [
       "3.844155844155844"
      ]
     },
     "execution_count": 9,
     "metadata": {},
     "output_type": "execute_result"
    }
   ],
   "source": [
    "#divide the total number of data points by the number of intervals to calculate the estimated mu for poisson distribution\n",
    "estimated_mu = 296 / 77\n",
    "estimated_mu"
   ]
  },
  {
   "cell_type": "code",
   "execution_count": 10,
   "metadata": {},
   "outputs": [
    {
     "data": {
      "image/png": "[encoded data removed]",
      "text/plain": [
       "<Figure size 432x288 with 1 Axes>"
      ]
     },
     "metadata": {
      "needs_background": "light"
     },
     "output_type": "display_data"
    }
   ],
   "source": [
    "#plot the exact poisson distribution with the estimated mu parameter\n",
    "x = np.arange(0, 15, 0.01)\n",
    "y = np.exp(-estimated_mu)*np.power(estimated_mu, x)/factorial(x)\n",
    "plt.plot(x, y);\n",
    "plt.title('Poisson (3.844)');"
   ]
  },
  {
   "cell_type": "markdown",
   "metadata": {},
   "source": [
    "# 1.3"
   ]
  },
  {
   "cell_type": "code",
   "execution_count": 11,
   "metadata": {},
   "outputs": [
    {
     "data": {
      "text/plain": [
       "array([ 4,  3,  1,  5,  3,  4,  6,  4,  1,  1,  4,  4,  3,  3,  3,  2,  3,\n",
       "        6,  5,  1,  5,  8,  3,  3,  5,  7,  1,  1,  6,  3, 13,  6,  3,  2,\n",
       "        5,  2,  3,  1,  4,  5,  3,  2,  5,  4,  2,  8,  3,  8,  1,  5,  6,\n",
       "        3,  1,  2,  6,  5,  6,  2,  4,  3,  4,  0,  6,  6,  4, 10,  2,  3,\n",
       "        3,  5,  1,  1,  4,  3,  6,  5,  2])"
      ]
     },
     "execution_count": 11,
     "metadata": {},
     "output_type": "execute_result"
    }
   ],
   "source": [
    "observed_counts = counts_and_bins[0]\n",
    "observed_counts"
   ]
  },
  {
   "cell_type": "code",
   "execution_count": 12,
   "metadata": {},
   "outputs": [
    {
     "data": {
      "text/plain": [
       "(array([21, 18, 11, 11, 10,  1,  3,  2]),\n",
       " array([20.16161391, 15.60438877, 14.99642557, 11.5297194 ,  7.38700637,\n",
       "         4.05668624,  1.94931677,  1.31484299]))"
      ]
     },
     "execution_count": 12,
     "metadata": {},
     "output_type": "execute_result"
    }
   ],
   "source": [
    "counts_bins_mid = np.arange(3, 10, 1)\n",
    "counts_bins = [-float(\"inf\")] + list(counts_bins_mid) + [float(\"inf\")] \n",
    "\n",
    "binned_counts = np.histogram(observed_counts, bins = counts_bins)\n",
    "observed = binned_counts[0]\n",
    "\n",
    "expected = stats.poisson.pmf(np.arange(3, 9, 1), estimated_mu) * 77\n",
    "expected = [stats.poisson.cdf(2, estimated_mu) * 77] + list(expected) + [(1 - stats.poisson.cdf(8, estimated_mu)) * 77]\n",
    "expected = np.array(expected)\n",
    "\n",
    "observed, expected"
   ]
  },
  {
   "cell_type": "code",
   "execution_count": 13,
   "metadata": {},
   "outputs": [
    {
     "data": {
      "text/plain": [
       "Power_divergenceResult(statistic=5.642826471840648, pvalue=0.5820168404827049)"
      ]
     },
     "execution_count": 13,
     "metadata": {},
     "output_type": "execute_result"
    }
   ],
   "source": [
    "chisquare = stats.chisquare(observed, expected)\n",
    "chisquare"
   ]
  },
  {
   "cell_type": "markdown",
   "metadata": {},
   "source": [
    "# 2.1"
   ]
  },
  {
   "cell_type": "code",
   "execution_count": 14,
   "metadata": {},
   "outputs": [
    {
     "data": {
      "text/plain": [
       "array([1144,  112,   44, 1771,    7,   31, 3977, 1760,   61,  249, 1551,\n",
       "        870, 1109, 1400,  456, 1294,  412,  327,   60, 1197, 1167,  149,\n",
       "         90,  615,  802, 1195,  712,  171,  331, 2708, 2716, 1713,  612,\n",
       "        513, 1420, 1180,  295,    5,  320, 1873,  111, 1919, 1928,  546,\n",
       "        122, 1154, 1099,  221, 1492, 2717,  374,   91,  329, 2471,  291,\n",
       "        782,  386,  810,  239,  334,   25,  105,  933, 1620,  428, 2945,\n",
       "        306,  178,  889, 1505,   57,   20,  526,  220,  733, 1053,  234,\n",
       "         13,  213, 1590,  616, 1512, 1067,  457,  963,  333, 1500,    6,\n",
       "        482, 1081,  153,   37,   66,  165,   81, 1518, 2082, 3309, 2097,\n",
       "        383,   16,  111,  491,    6, 1580, 1086,  783,  665,  512,  727,\n",
       "        147,  316,  573,   44,   73,   58,    8,   38,   36,   76,  251,\n",
       "        140,  261,   90,  573, 1801, 1513, 1005,  415,  801, 1155, 1275,\n",
       "        129,  443, 1652,  139, 1032, 1880,  709, 1062, 1039, 3154,  763,\n",
       "       1486,  167,   24, 1279, 1458, 1110,   92,  220,  434,   21,  938,\n",
       "       3344,  832, 1269,  209,   22,  541, 1214,  256,  480, 1663,  534,\n",
       "       1306, 1181, 1140,  690,  354,  173,  292,  510,  213,  102,  416,\n",
       "        969, 1499,  622,  793,  422,  575,  261,  297,    6,  183, 2929,\n",
       "        945,  155,  111,  655,  288, 1235, 1258,  492,  239,  177,  109,\n",
       "       2140,  602,  845, 1699, 3424,  275, 1366,   21,   12, 1030,  250,\n",
       "         77,  999,  812,    8,   40,  441, 1889,  449,  105, 1530,  643,\n",
       "          1,  618, 2256,  186,   83,   53,   75, 3467,  229,  618, 1551,\n",
       "        249,   61, 1760, 3977,   31,    7, 1771,   44,  112, 1144,  529,\n",
       "       1108,   67,   11,  302, 1229,  920,  455,  209,  921,   80,    5,\n",
       "         34,   70,   41,  573, 1157,   30,  169, 1004,  514, 2314,   33,\n",
       "       1142, 2350,  955,  497, 1527,  261,  110,  674, 1304,  593, 5333,\n",
       "        388,  102,  247,  537, 3473,  978,  422,  210,  414,  246,  182,\n",
       "        543, 1450,  818, 1124,  302,   11,   67, 1108,  529])"
      ]
     },
     "execution_count": 14,
     "metadata": {},
     "output_type": "execute_result"
    }
   ],
   "source": [
    "diffs = np.diff(data['location'].values)\n",
    "diffs"
   ]
  },
  {
   "cell_type": "code",
   "execution_count": 15,
   "metadata": {},
   "outputs": [
    {
     "data": {
      "image/png": "[encoded data removed]",
      "text/plain": [
       "<Figure size 432x288 with 1 Axes>"
      ]
     },
     "metadata": {
      "needs_background": "light"
     },
     "output_type": "display_data"
    }
   ],
   "source": [
    "sns.distplot(diffs, hist = True);"
   ]
  },
  {
   "cell_type": "markdown",
   "metadata": {},
   "source": [
    "# 2.2"
   ]
  },
  {
   "cell_type": "code",
   "execution_count": 16,
   "metadata": {},
   "outputs": [
    {
     "data": {
      "text/plain": [
       "0.0012894709235234465"
      ]
     },
     "execution_count": 16,
     "metadata": {},
     "output_type": "execute_result"
    }
   ],
   "source": [
    "e_lambda = 1 / np.mean(diffs)\n",
    "e_lambda"
   ]
  },
  {
   "cell_type": "code",
   "execution_count": 17,
   "metadata": {},
   "outputs": [
    {
     "data": {
      "text/plain": [
       "775.5118644067796"
      ]
     },
     "execution_count": 17,
     "metadata": {},
     "output_type": "execute_result"
    }
   ],
   "source": [
    "observed_scale = 1 / e_lambda\n",
    "observed_scale"
   ]
  },
  {
   "cell_type": "code",
   "execution_count": 18,
   "metadata": {},
   "outputs": [
    {
     "name": "stdout",
     "output_type": "stream",
     "text": [
      "0.000000006\n"
     ]
    }
   ],
   "source": [
    "e_var = e_lambda ** 2 / len(diffs)\n",
    "output = f\"{e_var:.9f}\"\n",
    "print(output)"
   ]
  },
  {
   "cell_type": "code",
   "execution_count": 19,
   "metadata": {},
   "outputs": [
    {
     "data": {
      "text/plain": [
       "[0.0011423221600467591, 0.001436619687000134]"
      ]
     },
     "execution_count": 19,
     "metadata": {},
     "output_type": "execute_result"
    }
   ],
   "source": [
    "#caculate the confidence interval \n",
    "[e_lambda - np.sqrt(e_var) * 1.96, e_lambda + np.sqrt(e_var) * 1.96]"
   ]
  },
  {
   "cell_type": "code",
   "execution_count": 20,
   "metadata": {},
   "outputs": [
    {
     "data": {
      "image/png": "[encoded data removed]",
      "text/plain": [
       "<Figure size 432x288 with 1 Axes>"
      ]
     },
     "metadata": {
      "needs_background": "light"
     },
     "output_type": "display_data"
    }
   ],
   "source": [
    "largest_diff = max(diffs)\n",
    "x = np.arange(largest_diff + 1)\n",
    "y = stats.expon.pdf(x, scale = 1/ e_lambda)\n",
    "plt.plot(x, y);\n",
    "plt.title('Exponential(0.0013)');"
   ]
  },
  {
   "cell_type": "markdown",
   "metadata": {},
   "source": [
    "# 2.3"
   ]
  },
  {
   "cell_type": "code",
   "execution_count": 21,
   "metadata": {},
   "outputs": [
    {
     "data": {
      "text/plain": [
       "0.002"
      ]
     },
     "execution_count": 21,
     "metadata": {},
     "output_type": "execute_result"
    }
   ],
   "source": [
    "#calculate the corresponding theoretical lambda for scale=500\n",
    "t_lambda = 1 / 500\n",
    "t_lambda"
   ]
  },
  {
   "cell_type": "markdown",
   "metadata": {},
   "source": [
    "# 2.4"
   ]
  },
  {
   "cell_type": "code",
   "execution_count": 22,
   "metadata": {},
   "outputs": [
    {
     "data": {
      "text/plain": [
       "(0.00011644450194791639, 9.7037084956597e-05)"
      ]
     },
     "execution_count": 22,
     "metadata": {},
     "output_type": "execute_result"
    }
   ],
   "source": [
    "SE_null = np.sqrt((1/500) ** 2 / 295)\n",
    "SE_alt = np.sqrt((1/600) ** 2 / 295)\n",
    "SE_null, SE_alt"
   ]
  },
  {
   "cell_type": "code",
   "execution_count": 23,
   "metadata": {},
   "outputs": [],
   "source": [
    "def power(alpha):\n",
    "    null_mu = 1 / 500\n",
    "    null_SE = SE_null\n",
    "    z_score = stats.norm.ppf(alpha)\n",
    "    result = null_mu + z_score * null_SE\n",
    "    z_score_alt = (result - 1/600) / SE_alt\n",
    "    power = stats.norm.cdf(z_score_alt)\n",
    "    return power"
   ]
  },
  {
   "cell_type": "markdown",
   "metadata": {},
   "source": [
    "**Plot the power of the test against all possible values of alpha [0,1]**"
   ]
  },
  {
   "cell_type": "code",
   "execution_count": 24,
   "metadata": {},
   "outputs": [
    {
     "data": {
      "image/png": "[encoded data removed]",
      "text/plain": [
       "<Figure size 432x288 with 1 Axes>"
      ]
     },
     "metadata": {
      "needs_background": "light"
     },
     "output_type": "display_data"
    }
   ],
   "source": [
    "powers = []\n",
    "for alpha in np.arange(0,1,0.001):\n",
    "    powers.append(power(alpha))\n",
    "plt.plot(np.arange(0,1,0.001), powers);\n",
    "plt.xlabel(\"alpha\");\n",
    "plt.ylabel('power');"
   ]
  },
  {
   "cell_type": "code",
   "execution_count": null,
   "metadata": {},
   "outputs": [],
   "source": []
  }
 ],
 "metadata": {
  "kernelspec": {
   "display_name": "Python 3",
   "language": "python",
   "name": "python3"
  },
  "language_info": {
   "codemirror_mode": {
    "name": "ipython",
    "version": 3
   },
   "file_extension": ".py",
   "mimetype": "text/x-python",
   "name": "python",
   "nbconvert_exporter": "python",
   "pygments_lexer": "ipython3",
   "version": "3.6.11"
  }
 },
 "nbformat": 4,
 "nbformat_minor": 4
}
